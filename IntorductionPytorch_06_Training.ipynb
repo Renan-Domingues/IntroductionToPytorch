{
  "nbformat": 4,
  "nbformat_minor": 0,
  "metadata": {
    "colab": {
      "provenance": [],
      "authorship_tag": "ABX9TyMOhT1WmGVKXvDd/qnCX0hW",
      "include_colab_link": true
    },
    "kernelspec": {
      "name": "python3",
      "display_name": "Python 3"
    },
    "language_info": {
      "name": "python"
    }
  },
  "cells": [
    {
      "cell_type": "markdown",
      "metadata": {
        "id": "view-in-github",
        "colab_type": "text"
      },
      "source": [
        "<a href=\"https://colab.research.google.com/github/Renan-Domingues/IntroductionToPytorch/blob/main/IntorductionPytorch_06_Training.ipynb\" target=\"_parent\"><img src=\"https://colab.research.google.com/assets/colab-badge.svg\" alt=\"Open In Colab\"/></a>"
      ]
    },
    {
      "cell_type": "markdown",
      "source": [
        "# Training with PyTorch\n"
      ],
      "metadata": {
        "id": "hQ8H_QDpUjbj"
      }
    },
    {
      "cell_type": "markdown",
      "source": [
        "- We'll get familiar with dataset and dataLoader abstraction\n",
        "- We'll discuss specific loss functions and when use them\n",
        "- We'll look at PyTorch Optimizers,  witch adjust model weights based the loss function outcome\n"
      ],
      "metadata": {
        "id": "KSBHVugsU214"
      }
    },
    {
      "cell_type": "markdown",
      "source": [
        "### Dataset and DataLoader\n",
        "\n",
        "The dataset and dataLoader classes encapsulate the processing of pulling our data from the storage and exposing it to the training loop in batches\n",
        "\n",
        "The Dataset is responsible for accessing and processing single instances of data\n",
        "\n",
        "The DataLoader pulls instances of data from dataset, collects them in batches, and return them for consumption by your training loop"
      ],
      "metadata": {
        "id": "mh7VKRqdVf1F"
      }
    },
    {
      "cell_type": "code",
      "source": [
        "import torch\n",
        "import torchvision\n",
        "import torchvision.transforms as transforms\n",
        "\n",
        "# PyTorch TensorBoard support\n",
        "from torch.utils.tensorboard import SummaryWriter\n",
        "from datetime import datetime\n",
        "\n",
        "transform = transforms.Compose(\n",
        "    [transforms.ToTensor(),\n",
        "     transforms.Normalize((0.5), (0.5))]\n",
        ")\n",
        "\n",
        "# Create datasets for training & validation, download if necessary\n",
        "training_set = torchvision.datasets.FashionMNIST('./data',\n",
        "                                                 train=True,\n",
        "                                                 transform=transform,\n",
        "                                                 download=True)\n",
        "\n",
        "validation_set = torchvision.datasets.FashionMNIST('./data',\n",
        "                                                   train=False,\n",
        "                                                   transform=transform,\n",
        "                                                   download=True)\n",
        "\n",
        "# Create data loaders, shuffle for training but not for validation\n",
        "\n",
        "training_loader = torch.utils.data.DataLoader(training_set,\n",
        "                                              batch_size=4,\n",
        "                                              shuffle=True)\n",
        "validation_loader = torch.utils.data.DataLoader(validation_set,\n",
        "                                                batch_size=4,\n",
        "                                                shuffle=False)\n",
        "\n",
        "# Class labels\n",
        "classes = ('T-shirt/top', 'Trouser', 'Pullover', 'Dress', 'Coat',\n",
        "        'Sandal', 'Shirt', 'Sneaker', 'Bag', 'Ankle Boot')\n",
        "\n",
        "# Report split sizes\n",
        "print(f'training set has {len(training_set)} instances')\n",
        "print(f'Validation set has {len(validation_set)} instances')"
      ],
      "metadata": {
        "id": "qweQpchLWaST",
        "colab": {
          "base_uri": "https://localhost:8080/"
        },
        "outputId": "c597c0d6-00bd-45a8-b87d-3dd218ba7142"
      },
      "execution_count": null,
      "outputs": [
        {
          "output_type": "stream",
          "name": "stdout",
          "text": [
            "Downloading http://fashion-mnist.s3-website.eu-central-1.amazonaws.com/train-images-idx3-ubyte.gz\n",
            "Downloading http://fashion-mnist.s3-website.eu-central-1.amazonaws.com/train-images-idx3-ubyte.gz to ./data/FashionMNIST/raw/train-images-idx3-ubyte.gz\n"
          ]
        },
        {
          "output_type": "stream",
          "name": "stderr",
          "text": [
            "100%|██████████| 26421880/26421880 [00:01<00:00, 14948184.05it/s]\n"
          ]
        },
        {
          "output_type": "stream",
          "name": "stdout",
          "text": [
            "Extracting ./data/FashionMNIST/raw/train-images-idx3-ubyte.gz to ./data/FashionMNIST/raw\n",
            "\n",
            "Downloading http://fashion-mnist.s3-website.eu-central-1.amazonaws.com/train-labels-idx1-ubyte.gz\n",
            "Downloading http://fashion-mnist.s3-website.eu-central-1.amazonaws.com/train-labels-idx1-ubyte.gz to ./data/FashionMNIST/raw/train-labels-idx1-ubyte.gz\n"
          ]
        },
        {
          "output_type": "stream",
          "name": "stderr",
          "text": [
            "100%|██████████| 29515/29515 [00:00<00:00, 266935.66it/s]\n"
          ]
        },
        {
          "output_type": "stream",
          "name": "stdout",
          "text": [
            "Extracting ./data/FashionMNIST/raw/train-labels-idx1-ubyte.gz to ./data/FashionMNIST/raw\n",
            "\n",
            "Downloading http://fashion-mnist.s3-website.eu-central-1.amazonaws.com/t10k-images-idx3-ubyte.gz\n",
            "Downloading http://fashion-mnist.s3-website.eu-central-1.amazonaws.com/t10k-images-idx3-ubyte.gz to ./data/FashionMNIST/raw/t10k-images-idx3-ubyte.gz\n"
          ]
        },
        {
          "output_type": "stream",
          "name": "stderr",
          "text": [
            "100%|██████████| 4422102/4422102 [00:00<00:00, 5024223.66it/s]\n"
          ]
        },
        {
          "output_type": "stream",
          "name": "stdout",
          "text": [
            "Extracting ./data/FashionMNIST/raw/t10k-images-idx3-ubyte.gz to ./data/FashionMNIST/raw\n",
            "\n",
            "Downloading http://fashion-mnist.s3-website.eu-central-1.amazonaws.com/t10k-labels-idx1-ubyte.gz\n",
            "Downloading http://fashion-mnist.s3-website.eu-central-1.amazonaws.com/t10k-labels-idx1-ubyte.gz to ./data/FashionMNIST/raw/t10k-labels-idx1-ubyte.gz\n"
          ]
        },
        {
          "output_type": "stream",
          "name": "stderr",
          "text": [
            "100%|██████████| 5148/5148 [00:00<00:00, 13126004.25it/s]"
          ]
        },
        {
          "output_type": "stream",
          "name": "stdout",
          "text": [
            "Extracting ./data/FashionMNIST/raw/t10k-labels-idx1-ubyte.gz to ./data/FashionMNIST/raw\n",
            "\n",
            "training set has 60000 instances\n",
            "Validation set has 10000 instances\n"
          ]
        },
        {
          "output_type": "stream",
          "name": "stderr",
          "text": [
            "\n"
          ]
        }
      ]
    },
    {
      "cell_type": "code",
      "source": [
        "# Let's visualize\n",
        "\n",
        "import matplotlib.pyplot as plt\n",
        "import numpy as np\n",
        "\n",
        "# helper function for inline image display\n",
        "def matplotlib_imshow(img, one_channel=False):\n",
        "  if one_channel:\n",
        "    img = img.mean(dim=0)\n",
        "  img = img / 2 + 0.5 # unnormalize\n",
        "  npimg = img.numpy()\n",
        "  if one_channel:\n",
        "    plt.imshow(npimg, cmap=\"Greys\")\n",
        "  else:\n",
        "    plt.imshow(np.transpose(npimg, (1, 2, 0)))\n",
        "\n",
        "dataiter = iter(training_loader)\n",
        "images, labels = next(dataiter)\n",
        "\n",
        "# create a grid from the images and show them\n",
        "img_grid = torchvision.utils. make_grid(images)\n",
        "matplotlib_imshow(img_grid, one_channel=True)\n",
        "print(' '.join(classes[labels[j]] for j in range(4)))"
      ],
      "metadata": {
        "colab": {
          "base_uri": "https://localhost:8080/",
          "height": 211
        },
        "id": "En6szatBjEgl",
        "outputId": "87329488-19ae-4b49-f51b-26b10ca9d307"
      },
      "execution_count": null,
      "outputs": [
        {
          "output_type": "stream",
          "name": "stdout",
          "text": [
            "Coat Sandal Coat Sandal\n"
          ]
        },
        {
          "output_type": "display_data",
          "data": {
            "text/plain": [
              "<Figure size 640x480 with 1 Axes>"
            ],
            "image/png": "[encoded data removed]"
          },
          "metadata": {}
        }
      ]
    },
    {
      "cell_type": "markdown",
      "source": [
        "### The Model"
      ],
      "metadata": {
        "id": "Q9rgBYNZkk_R"
      }
    },
    {
      "cell_type": "code",
      "source": [
        "import torch.nn as nn\n",
        "import torch.nn.functional as F\n",
        "\n",
        "# PyTorch models inherit from torch.nn.Module\n",
        "class GarmentClassifier(nn.Module):\n",
        "    def __init__(self):\n",
        "        super(GarmentClassifier, self).__init__()\n",
        "        self.conv1 = nn.Conv2d(1, 6, 5)\n",
        "        self.pool = nn.MaxPool2d(2, 2)\n",
        "        self.conv2 = nn.Conv2d(6, 16, 5)\n",
        "        self.fc1 = nn.Linear(16 * 4 * 4, 120)\n",
        "        self.fc2 = nn.Linear(120, 84)\n",
        "        self.fc3 = nn.Linear(84, 10)\n",
        "\n",
        "    def forward(self, x):\n",
        "        x = self.pool(F.relu(self.conv1(x)))\n",
        "        x = self.pool(F.relu(self.conv2(x)))\n",
        "        x = x.view(-1, 16 * 4 * 4)\n",
        "        x = F.relu(self.fc1(x))\n",
        "        x = F.relu(self.fc2(x))\n",
        "        x = self.fc3(x)\n",
        "        return x\n",
        "\n",
        "\n",
        "model = GarmentClassifier()\n"
      ],
      "metadata": {
        "id": "nALI81y9kqzS"
      },
      "execution_count": null,
      "outputs": []
    },
    {
      "cell_type": "markdown",
      "source": [
        "### Loss Function\n",
        "\n",
        "For demonstration purposes, we'll create batches of dummy output and label values, run them through the loss function, and examine the result."
      ],
      "metadata": {
        "id": "rqkrr40xmZT2"
      }
    },
    {
      "cell_type": "code",
      "source": [
        "# We will use the cross-entropy loss\n",
        "\n",
        "loss_fn = torch.nn.CrossEntropyLoss()\n",
        "\n",
        "# Loss function expect data in batches, so we're creating batches of 4\n",
        "dummy_outputs = torch.rand(4, 10)\n",
        "dummy_labels = torch.tensor([1, 5, 3, 7])\n",
        "\n",
        "print(dummy_outputs)\n",
        "print(dummy_labels)\n",
        "\n",
        "loss = loss_fn(dummy_outputs, dummy_labels)\n",
        "print(f'Total loss for this batch {loss.item()}')"
      ],
      "metadata": {
        "colab": {
          "base_uri": "https://localhost:8080/"
        },
        "id": "MzLlMDgfmjqH",
        "outputId": "2ebdec29-d8fb-4955-b207-91b5297a4acf"
      },
      "execution_count": null,
      "outputs": [
        {
          "output_type": "stream",
          "name": "stdout",
          "text": [
            "tensor([[0.2743, 0.4102, 0.6050, 0.1525, 0.0546, 0.3288, 0.7227, 0.4026, 0.5552,\n",
            "         0.5784],\n",
            "        [0.5115, 0.6881, 0.2108, 0.5930, 0.7337, 0.4290, 0.9829, 0.6173, 0.9984,\n",
            "         0.0166],\n",
            "        [0.8128, 0.3581, 0.3261, 0.4107, 0.2350, 0.6834, 0.0113, 0.4701, 0.6434,\n",
            "         0.6005],\n",
            "        [0.5076, 0.0376, 0.9616, 0.8752, 0.0828, 0.0604, 0.7334, 0.7538, 0.4191,\n",
            "         0.0747]])\n",
            "tensor([1, 5, 3, 7])\n",
            "Total loss for this batch 2.3112785816192627\n"
          ]
        }
      ]
    },
    {
      "cell_type": "markdown",
      "source": [
        "### Optimizer\n",
        "\n",
        "We'll  use the stochastic gradient descent woth momentum.\n",
        "\n",
        "momentum - it push the optimizer in the direction of strongest gradient over multiple steps\n"
      ],
      "metadata": {
        "id": "178jRDoHnulM"
      }
    },
    {
      "cell_type": "code",
      "source": [
        "optimizer = torch.optim.SGD(model.parameters(), lr=0.001, momentum=0.9)"
      ],
      "metadata": {
        "id": "LBM9PerUsnvR"
      },
      "execution_count": null,
      "outputs": []
    },
    {
      "cell_type": "markdown",
      "source": [
        "### The Training Loop\n",
        "\n",
        "what is happening in each pass of the loop:\n",
        "\n",
        "\n",
        "\n",
        "- Gets a batch of training data from the DataLoader\n",
        "\n",
        "- Zeros the optimizer's gradients\n",
        "\n",
        "- Performs an inference - that is, gets predictions from the model for an input batch\n",
        "\n",
        "- Calculates the loss for that set of predictions vs. the labels on the dataset\n",
        "\n",
        "- Calculates the backward gradients over the learning weights\n",
        "\n",
        "- Tells the optimizer to perform one learning step - that is, adjust the model's learning weights based on the observed gradients for this batch, according to the optimization algorithm we chose\n",
        "\n",
        "- It reports on the loss for every 1000 batches.\n",
        "\n",
        "- Finally, it reports the average per-batch loss for the last 1000 batches, for comparison with a validation run\n"
      ],
      "metadata": {
        "id": "CVbEV0SAs1qG"
      }
    },
    {
      "cell_type": "code",
      "source": [
        "def train_one_epoch(epoch_index, tb_writer):\n",
        "  running_loss = 0\n",
        "  last_loss = 0\n",
        "\n",
        "  for i, data in enumerate(training_loader):\n",
        "    # Every data instance is an input + label pair\n",
        "    inputs, labels = data\n",
        "\n",
        "    #zero the gradients for every batch\n",
        "    optimizer.zero_grad()\n",
        "\n",
        "    # Make prediction for this batch\n",
        "    outputs = model(inputs)\n",
        "\n",
        "    # compute the loss and its gradients\n",
        "    loss = loss_fn(outputs, labels)\n",
        "    loss.backward()\n",
        "\n",
        "    # adjust the learning weights\n",
        "    optimizer.step()\n",
        "\n",
        "    # Gather data and report\n",
        "    running_loss += loss.item()\n",
        "    if i % 1000 == 999:\n",
        "      last_loss = running_loss / 1000 # loss per batch\n",
        "      print(f' batch: {i + 1} loss: {last_loss}')\n",
        "      tb_x = epoch_index * len(training_loader) + i + 1\n",
        "      tb_writer.add_scalar('Loss/train', last_loss, tb_x)\n",
        "      running_loss = 0.\n",
        "\n",
        "  return last_loss"
      ],
      "metadata": {
        "id": "lO6tCTdSuH99"
      },
      "execution_count": null,
      "outputs": []
    },
    {
      "cell_type": "markdown",
      "source": [
        "### Per-Epoch Activity\n",
        "\n",
        "Here, we'll do our reporting in TensorBoard. This will require going to the command line to start TensorBoard, and opening it in another browser tab."
      ],
      "metadata": {
        "id": "uFwAY1tUwPqj"
      }
    },
    {
      "cell_type": "code",
      "source": [
        "timestamp = datetime.now().strftime('%Y%m%d_%H%M%S')\n",
        "writer = SummaryWriter(f'runs/fashion_trainer_{timestamp}')\n",
        "epoch_number = 0\n",
        "\n",
        "EPOCHS = 5\n",
        "\n",
        "best_vloss = 1_000_000.\n",
        "\n",
        "for epoch  in range(EPOCHS):\n",
        "  print(f'EPOCH {epoch_number + 1}')\n",
        "\n",
        "  model.train(True)\n",
        "  avg_loss = train_one_epoch(epoch_number, writer)\n",
        "\n",
        "  running_vloss = 0.0\n",
        "\n",
        "  model.eval()\n",
        "\n",
        "  with torch.no_grad():\n",
        "    for i, vdata in  enumerate(validation_loader):\n",
        "      vinputs, vlabels = vdata\n",
        "      voutputs = model(vinputs)\n",
        "      vloss = loss_fn(voutputs, vlabels)\n",
        "      running_vloss += vloss\n",
        "\n",
        "  avg_vloss = running_vloss / (i + 1)\n",
        "  print(f\" LOSS train {avg_loss} valid {avg_vloss}\")\n",
        "\n",
        "  writer.add_scalars('training vcs validation loss',\n",
        "                     {'training': avg_loss, 'Validation': avg_vloss},\n",
        "                     epoch_number + 1)\n",
        "  writer.flush()\n",
        "\n",
        "  if avg_vloss < best_vloss:\n",
        "    best_vloss = avg_vloss\n",
        "    model_path = f'model_{timestamp}_{epoch_number}'\n",
        "    torch.save(model.state_dict(), model_path)\n",
        "\n",
        "  epoch_number += 1\n",
        "\n",
        "\n",
        "\n"
      ],
      "metadata": {
        "colab": {
          "base_uri": "https://localhost:8080/"
        },
        "id": "q4G1vkF5wjyj",
        "outputId": "7d1a8bb6-9685-4892-f8e7-938d33165b33"
      },
      "execution_count": null,
      "outputs": [
        {
          "output_type": "stream",
          "name": "stdout",
          "text": [
            "EPOCH 1\n",
            " batch: 1000 loss: 1.7072935178428887\n",
            " batch: 2000 loss: 0.8224790668487549\n",
            " batch: 3000 loss: 0.7125203360076994\n",
            " batch: 4000 loss: 0.6510529834385961\n",
            " batch: 5000 loss: 0.6054272835507291\n",
            " batch: 6000 loss: 0.5682494880040176\n",
            " batch: 7000 loss: 0.5584115169532597\n",
            " batch: 8000 loss: 0.5145772430835059\n",
            " batch: 9000 loss: 0.4899272675893735\n",
            " batch: 10000 loss: 0.4878806865841616\n",
            " batch: 11000 loss: 0.4642151725580916\n",
            " batch: 12000 loss: 0.44265515326836613\n",
            " batch: 13000 loss: 0.45018164464685834\n",
            " batch: 14000 loss: 0.428365321966121\n",
            " batch: 15000 loss: 0.40540716868510934\n",
            " LOSS train 0.40540716868510934 valid 0.45086997747421265\n",
            "EPOCH 2\n",
            " batch: 1000 loss: 0.3844018662413728\n",
            " batch: 2000 loss: 0.3927876336658992\n",
            " batch: 3000 loss: 0.41265662166522815\n",
            " batch: 4000 loss: 0.3989526324522449\n",
            " batch: 5000 loss: 0.3560462340557133\n",
            " batch: 6000 loss: 0.382255077167054\n",
            " batch: 7000 loss: 0.38062660212029004\n",
            " batch: 8000 loss: 0.38010720060544556\n",
            " batch: 9000 loss: 0.368526779780339\n",
            " batch: 10000 loss: 0.4005032149861654\n",
            " batch: 11000 loss: 0.37165315732866294\n",
            " batch: 12000 loss: 0.331398188486477\n",
            " batch: 13000 loss: 0.3306239563116105\n",
            " batch: 14000 loss: 0.3642571286476159\n",
            " batch: 15000 loss: 0.3821472530669998\n",
            " LOSS train 0.3821472530669998 valid 0.36984482407569885\n",
            "EPOCH 3\n",
            " batch: 1000 loss: 0.3299265910263639\n",
            " batch: 2000 loss: 0.3557590234883974\n",
            " batch: 3000 loss: 0.33802120556756565\n",
            " batch: 4000 loss: 0.3239811198210082\n",
            " batch: 5000 loss: 0.33474059918127025\n",
            " batch: 6000 loss: 0.3338755246130167\n",
            " batch: 7000 loss: 0.3256306523894018\n",
            " batch: 8000 loss: 0.3184903038263292\n",
            " batch: 9000 loss: 0.32228180321089167\n",
            " batch: 10000 loss: 0.32700484058118306\n",
            " batch: 11000 loss: 0.31500281857709345\n",
            " batch: 12000 loss: 0.2941883178410644\n",
            " batch: 13000 loss: 0.311288167977822\n",
            " batch: 14000 loss: 0.3407053591310396\n",
            " batch: 15000 loss: 0.3130133552176994\n",
            " LOSS train 0.3130133552176994 valid 0.3358522951602936\n",
            "EPOCH 4\n",
            " batch: 1000 loss: 0.2831269090084979\n",
            " batch: 2000 loss: 0.30244102722785826\n",
            " batch: 3000 loss: 0.29448298726422945\n",
            " batch: 4000 loss: 0.28133062615831295\n",
            " batch: 5000 loss: 0.29881426291815294\n",
            " batch: 6000 loss: 0.29031339604019013\n",
            " batch: 7000 loss: 0.31594020786920735\n",
            " batch: 8000 loss: 0.2993341725288519\n",
            " batch: 9000 loss: 0.3301769840985944\n",
            " batch: 10000 loss: 0.28689647393229095\n",
            " batch: 11000 loss: 0.2991365186069961\n",
            " batch: 12000 loss: 0.31270601506398815\n",
            " batch: 13000 loss: 0.2994609999606182\n",
            " batch: 14000 loss: 0.2881392179226259\n",
            " batch: 15000 loss: 0.28493235881067813\n",
            " LOSS train 0.28493235881067813 valid 0.3311558663845062\n",
            "EPOCH 5\n",
            " batch: 1000 loss: 0.2836076082334439\n",
            " batch: 2000 loss: 0.27269469878911334\n",
            " batch: 3000 loss: 0.28941501294703265\n",
            " batch: 4000 loss: 0.2914640370084071\n",
            " batch: 5000 loss: 0.27620687169616215\n",
            " batch: 6000 loss: 0.2690915099869235\n",
            " batch: 7000 loss: 0.281758658177343\n",
            " batch: 8000 loss: 0.27261783814521734\n",
            " batch: 9000 loss: 0.27592583308229895\n",
            " batch: 10000 loss: 0.2945868447008033\n",
            " batch: 11000 loss: 0.25930182022376175\n",
            " batch: 12000 loss: 0.2754945319364269\n",
            " batch: 13000 loss: 0.27979319413201303\n",
            " batch: 14000 loss: 0.27996515681647\n",
            " batch: 15000 loss: 0.2805395285858394\n",
            " LOSS train 0.2805395285858394 valid 0.31661471724510193\n"
          ]
        }
      ]
    }
  ]
}