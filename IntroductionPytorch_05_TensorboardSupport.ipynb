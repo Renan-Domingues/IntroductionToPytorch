{
  "nbformat": 4,
  "nbformat_minor": 0,
  "metadata": {
    "colab": {
      "provenance": [],
      "authorship_tag": "ABX9TyM1G787pCQ0tw81unYYxo63",
      "include_colab_link": true
    },
    "kernelspec": {
      "name": "python3",
      "display_name": "Python 3"
    },
    "language_info": {
      "name": "python"
    }
  },
  "cells": [
    {
      "cell_type": "markdown",
      "metadata": {
        "id": "view-in-github",
        "colab_type": "text"
      },
      "source": [
        "<a href=\"https://colab.research.google.com/github/Renan-Domingues/IntroductionToPytorch/blob/main/IntroductionPytorch_05_TensorboardSupport.ipynb\" target=\"_parent\"><img src=\"https://colab.research.google.com/assets/colab-badge.svg\" alt=\"Open In Colab\"/></a>"
      ]
    },
    {
      "cell_type": "markdown",
      "source": [
        "# Pytorch TensorBoard Support\n"
      ],
      "metadata": {
        "id": "ZJDG-onwanKy"
      }
    },
    {
      "cell_type": "markdown",
      "source": [
        "### Introduction\n",
        "This is a varient of the LeNet-5 against Fashion-MNIST dataset."
      ],
      "metadata": {
        "id": "RbDLKfSnawGa"
      }
    },
    {
      "cell_type": "code",
      "source": [
        "# Pytorch model and training necessities\n",
        "import torch\n",
        "import torch.nn as nn\n",
        "import torch.nn.functional as F\n",
        "import torch.optim as optim\n",
        "\n",
        "# Image datasets and image manipulation\n",
        "import torchvision\n",
        "import torchvision.transforms as transforms\n",
        "\n",
        "# image display\n",
        "import matplotlib.pyplot as plt\n",
        "import numpy as np\n",
        "\n",
        "# pytorch TensorBoard support\n",
        "from torch.utils.tensorboard import SummaryWriter\n"
      ],
      "metadata": {
        "id": "Y5YC5tWqbAsU"
      },
      "execution_count": null,
      "outputs": []
    },
    {
      "cell_type": "code",
      "source": [
        "# Adding  sample images from our dataset to Tensorboard\n",
        "\n",
        "# Gather datasets and prepare them for consumption\n",
        "transform = transforms.Compose(\n",
        "    [transforms.ToTensor(),\n",
        "    transforms.Normalize((0.5,), (0.5,))]\n",
        ")\n",
        "\n",
        "# Store separate training and validations splits in. /data\n",
        "training_set = torchvision.datasets.FashionMNIST('.data',\n",
        "                                                 download=True,\n",
        "                                                 train=True,\n",
        "                                                 transform=transform)\n",
        "validation_set = torchvision.datasets.FashionMNIST('./data',\n",
        "                                                   download=True,\n",
        "                                                   train=False,\n",
        "                                                   transform=transform)\n",
        "\n",
        "training_loader = torch.utils.data.DataLoader(training_set,\n",
        "                                              batch_size=4,\n",
        "                                              shuffle=True,\n",
        "                                              num_workers=2)\n",
        "\n",
        "validation_loader = torch.utils.data.DataLoader(validation_set,\n",
        "                                                batch_size=4,\n",
        "                                                shuffle=False,\n",
        "                                                num_workers=2)\n",
        "\n",
        "# class labels\n",
        "classes = ('T-shirt/top', 'Trouser', 'Pullover', 'Dress', 'Coat',\n",
        "           'Sandal', 'Shirt', 'Sneaker', 'Bag', 'Ankle Boot')\n",
        "\n",
        "# Helper function for inline image display\n",
        "def matplotlib_imshow(img, one_channel=False):\n",
        "  if one_channel:\n",
        "    img = img.mean(dim=0)\n",
        "  img = img / 2 + 0.5 # unnormalize\n",
        "  npimg = img.numpy()\n",
        "  if one_channel:\n",
        "    plt.imshow(npimg, cmap=\"Greys\")\n",
        "  else:\n",
        "    plt.imshow(np.transpose(npimg, (1, 2, 0)))\n",
        "\n",
        "# Extract a batch of 4 images\n",
        "dataiter = iter(training_loader)\n",
        "images, labels = next(dataiter)\n",
        "\n",
        "# Create a grid from the images and show them\n",
        "img_grid = torchvision.utils.make_grid(images)\n",
        "matplotlib_imshow(img_grid, one_channel=True)"
      ],
      "metadata": {
        "colab": {
          "base_uri": "https://localhost:8080/",
          "height": 194
        },
        "id": "BOXViAfecktg",
        "outputId": "d3ab6413-4926-4355-c733-cfa6401f8e3b"
      },
      "execution_count": null,
      "outputs": [
        {
          "output_type": "display_data",
          "data": {
            "text/plain": [
              "<Figure size 640x480 with 1 Axes>"
            ],
            "image/png": "[encoded data removed]"
          },
          "metadata": {}
        }
      ]
    },
    {
      "cell_type": "markdown",
      "source": [
        "Above, we used TorchVisiond and Matplotlib to create a visual grid of minibatch of our imput data.\n",
        "\n",
        "Now we'll going to use \"add_image()\" call on \"SummaryWriter\" to log the image for consumption by TensorBoard, and we'll also call \"flush()\" to  make sure it's written to disk right away"
      ],
      "metadata": {
        "id": "h28epfaVh066"
      }
    },
    {
      "cell_type": "code",
      "source": [
        "#  Default log_dir argument is \"runs\" - but it's good to be specific\n",
        "# torch.utils.tensorboard.SummaryWriter is alredy imported\n",
        "writer = SummaryWriter('runs/fashion_mnist_experiment_1')\n",
        "\n",
        "# Write image data to TensorBoard log dir\n",
        "writer.add_image('Four Fashion_MNIST Images', img_grid)\n",
        "writer.flush()\n",
        "\n",
        "# To view, start TensorBoard on the command line with:\n",
        "#   tensorboard --logdir=runs\n",
        "# ...and open a browser tab to http://localhost:6006/"
      ],
      "metadata": {
        "id": "KRVLDAhxio6T"
      },
      "execution_count": null,
      "outputs": []
    },
    {
      "cell_type": "markdown",
      "source": [
        "If you start TensorBoard at the command line and open it in a new browser tab (usually at localhost:6006), you should see the image grid under the IMAGES tab."
      ],
      "metadata": {
        "id": "4PBN1ZV1jmQy"
      }
    },
    {
      "cell_type": "markdown",
      "source": [
        "### Graphing Scalars to Visualize Training\n",
        "\n",
        "We'll run a training loop, track some metrics, and save the data for TensorBoard's consumption."
      ],
      "metadata": {
        "id": "WmrUm45xjwox"
      }
    },
    {
      "cell_type": "code",
      "source": [
        "# Define a model  to categorize out image tiles, and a optimizer and loss function for training\n",
        "\n",
        "class Net(nn.Module):\n",
        "  def __init__(self):\n",
        "    super(Net, self).__init__()\n",
        "    self.conv1 = nn.Conv2d(1, 6, 5)\n",
        "    self.pool = nn.MaxPool2d(2, 2)\n",
        "    self.conv2 = nn.Conv2d(6, 16, 5)\n",
        "    self.fc1 = nn.Linear(16 * 4 * 4, 120)\n",
        "    self.fc2 = nn.Linear(120, 84)\n",
        "    self.fc3 = nn.Linear(84, 10)\n",
        "\n",
        "  def forward(self, x):\n",
        "    x = self.pool(F.relu(self.conv1(x)))\n",
        "    x = self.pool(F.relu(self.conv2(x)))\n",
        "    x = x.view(-1, 16 * 4 * 4)\n",
        "    x = F.relu(self.fc1(x))\n",
        "    x = F.relu(self.fc2(x))\n",
        "    x = self.fc3(x)\n",
        "    return x\n",
        "\n",
        "net = Net()\n",
        "criterion = nn.CrossEntropyLoss()\n",
        "optimizer = optim.SGD(net.parameters(), lr=0.001, momentum=0.9)\n"
      ],
      "metadata": {
        "id": "FQUyFA-BlUEz"
      },
      "execution_count": null,
      "outputs": []
    },
    {
      "cell_type": "code",
      "source": [
        "# Let's train a epoch and evaluate the training vs. validation set losses every 1000 batches\n",
        "\n",
        "print(len(validation_loader))\n",
        "\n",
        "for epoch in range(1): # loop over the dataset multiple times\n",
        "  running_loss = 0.0\n",
        "\n",
        "  for i, data in enumerate(training_loader, 0):\n",
        "    # basic training loop\n",
        "    inputs, labels = data\n",
        "    optimizer.zero_grad()\n",
        "    outputs = net(inputs)\n",
        "    loss = criterion(outputs, labels)\n",
        "    loss.backward()\n",
        "    optimizer.step()\n",
        "\n",
        "    running_loss += loss.item()\n",
        "    if i % 1000 == 999: # every 1000 minibatches\n",
        "      print(f\"Batch {i + 1}\")\n",
        "      # check against the validation set\n",
        "      running_vloss = 0.0\n",
        "\n",
        "      net.train(False) # Don't need to track gradents for validation\n",
        "      for j, vdata in enumerate(validation_loader, 0):\n",
        "        vinputs, vlabels = vdata\n",
        "        voutputs = net(vinputs)\n",
        "        vloss = criterion(voutputs, vlabels)\n",
        "        running_vloss += vloss.item()\n",
        "      net.train(True) # Turn gradients back on for training\n",
        "\n",
        "      avg_loss = running_loss / 1000\n",
        "      avg_vloss = running_vloss / len(validation_loader)\n",
        "\n",
        "      # log the running loss averaged per batch\n",
        "      writer.add_scalars('Training vs. Validation Loss',\n",
        "                         {'Training': avg_loss, 'Validation': avg_vloss},\n",
        "                         epoch * len(training_loader) + i)\n",
        "      running_loss = 0.0\n",
        "print('Finished Training')\n",
        "\n",
        "writer.flush()"
      ],
      "metadata": {
        "colab": {
          "base_uri": "https://localhost:8080/"
        },
        "id": "XMk15Kl6nPNO",
        "outputId": "586ae98e-6dbf-4c20-f920-121a95c5c56e"
      },
      "execution_count": null,
      "outputs": [
        {
          "output_type": "stream",
          "name": "stdout",
          "text": [
            "2500\n",
            "Batch 1000\n",
            "Batch 2000\n",
            "Batch 3000\n",
            "Batch 4000\n",
            "Batch 5000\n",
            "Batch 6000\n",
            "Batch 7000\n",
            "Batch 8000\n",
            "Batch 9000\n",
            "Batch 10000\n",
            "Batch 11000\n",
            "Batch 12000\n",
            "Batch 13000\n",
            "Batch 14000\n",
            "Batch 15000\n",
            "Finished Training\n"
          ]
        }
      ]
    },
    {
      "cell_type": "markdown",
      "source": [
        "### Visualizing Your Model\n",
        "\n",
        "TensorBoard can also be used to examine the data flow within your model. To do this, call the \"add_graph()\" method with a model and sample input. When you open"
      ],
      "metadata": {
        "id": "IHKc6qxdr4RQ"
      }
    },
    {
      "cell_type": "code",
      "source": [
        "# grab a single minibatch of image\n",
        "dataiter = iter(training_loader)\n",
        "images, labels = next(dataiter)\n",
        "\n",
        "# add_graph() will trace the sample input through my model and render it as a graph\n",
        "writer.add_graph(net, images)\n",
        "writer.flush()\n"
      ],
      "metadata": {
        "id": "TQ4DWZEVsEWZ"
      },
      "execution_count": null,
      "outputs": []
    },
    {
      "cell_type": "markdown",
      "source": [
        "Double-click the “NET” node to see the layers and data flow within my model."
      ],
      "metadata": {
        "id": "S2U5F2Xgs1BM"
      }
    },
    {
      "cell_type": "markdown",
      "source": [
        "### Visualizing My Dataset with\n",
        "\n",
        "The 28-by-28 image tiles we're using can be modeled as 784-dimensional vectors (28 * 28 = 784).\n",
        "\n",
        "The \"add_embedding()\" method will project a set of data onto the three dimensions with highest variance, and display them as an interactive 3D chart.  The \"add_embedding()\" do this automatically\n",
        "\n",
        "Let's generate such an ambedding:\n"
      ],
      "metadata": {
        "id": "MuPZlETqs4oa"
      }
    },
    {
      "cell_type": "code",
      "source": [
        "# Select a random subset of data and corresponding labels\n",
        "\n",
        "def select_n_random(data, labels, n=100):\n",
        "  assert len(data) == len(labels)\n",
        "\n",
        "  perm = torch.randperm(len(data))\n",
        "  return data[perm][:n], labels[perm][:n]\n",
        "\n",
        "# extract a random sibset of data\n",
        "images, labels = select_n_random(training_set.data, training_set.targets)\n",
        "\n",
        "# get the class labels for each image\n",
        "class_labels = [classes[label] for label in labels]\n",
        "\n",
        "# log embeddings\n",
        "features = images.view(-1, 28 * 28)\n",
        "writer.add_embedding(features,\n",
        "                    metadata=class_labels,\n",
        "                    label_img=images.unsqueeze(1))\n",
        "\n",
        "writer.flush()\n",
        "writer.close()"
      ],
      "metadata": {
        "id": "A0CJ76PGtqYg"
      },
      "execution_count": null,
      "outputs": []
    },
    {
      "cell_type": "markdown",
      "source": [
        "Now if I switch to TensorBoard and select the PROJECTOR tab, I should see a 3D representation of the projection."
      ],
      "metadata": {
        "id": "_qJ4K5YovD72"
      }
    }
  ]
}