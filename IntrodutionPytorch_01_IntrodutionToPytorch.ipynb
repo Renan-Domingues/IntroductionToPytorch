{
  "nbformat": 4,
  "nbformat_minor": 0,
  "metadata": {
    "colab": {
      "provenance": [],
      "authorship_tag": "ABX9TyOdvBNdsqXvznk5Hj+qH9Rh",
      "include_colab_link": true
    },
    "kernelspec": {
      "name": "python3",
      "display_name": "Python 3"
    },
    "language_info": {
      "name": "python"
    }
  },
  "cells": [
    {
      "cell_type": "markdown",
      "metadata": {
        "id": "view-in-github",
        "colab_type": "text"
      },
      "source": [
        "<a href=\"https://colab.research.google.com/github/Renan-Domingues/IntroductionToPytorch/blob/main/IntrodutionPytorch_01_IntrodutionToPytorch.ipynb\" target=\"_parent\"><img src=\"https://colab.research.google.com/assets/colab-badge.svg\" alt=\"Open In Colab\"/></a>"
      ]
    },
    {
      "cell_type": "markdown",
      "source": [
        "# PyTorch Tensors"
      ],
      "metadata": {
        "id": "UCADHFK3ew8F"
      }
    },
    {
      "cell_type": "code",
      "source": [
        "import torch"
      ],
      "metadata": {
        "id": "URtX01tve6rV"
      },
      "execution_count": null,
      "outputs": []
    },
    {
      "cell_type": "markdown",
      "source": [
        "Just a few of the ways to create tensors"
      ],
      "metadata": {
        "id": "L1UQ7AFKfAPc"
      }
    },
    {
      "cell_type": "code",
      "source": [
        "z = torch.zeros(5, 3)\n",
        "print(z)\n",
        "print(z.dtype)"
      ],
      "metadata": {
        "colab": {
          "base_uri": "https://localhost:8080/"
        },
        "id": "EgH2lEXEfHx2",
        "outputId": "445d19f4-f881-4480-cd7e-c5f93576399d"
      },
      "execution_count": null,
      "outputs": [
        {
          "output_type": "stream",
          "name": "stdout",
          "text": [
            "tensor([[0., 0., 0.],\n",
            "        [0., 0., 0.],\n",
            "        [0., 0., 0.],\n",
            "        [0., 0., 0.],\n",
            "        [0., 0., 0.]])\n",
            "torch.float32\n"
          ]
        }
      ]
    },
    {
      "cell_type": "markdown",
      "source": [
        "float32 it's the default PyTorch Tensors\n",
        "float 32 means  that the zeros are 32-bit floating\n",
        "\n",
        "If I wanted integers instead, I can override the default"
      ],
      "metadata": {
        "id": "b3rATEi1fTeU"
      }
    },
    {
      "cell_type": "code",
      "source": [
        "i = torch.ones((5, 3), dtype=torch.int16)\n",
        "print(i)"
      ],
      "metadata": {
        "colab": {
          "base_uri": "https://localhost:8080/"
        },
        "id": "E5OwiTrOfzrp",
        "outputId": "1d740e4b-de5b-4eee-acfb-4dcf91932768"
      },
      "execution_count": null,
      "outputs": [
        {
          "output_type": "stream",
          "name": "stdout",
          "text": [
            "tensor([[1, 1, 1],\n",
            "        [1, 1, 1],\n",
            "        [1, 1, 1],\n",
            "        [1, 1, 1],\n",
            "        [1, 1, 1]], dtype=torch.int16)\n"
          ]
        }
      ]
    },
    {
      "cell_type": "code",
      "source": [
        "# using manual seed\n",
        "\n",
        "torch.manual_seed(42)\n",
        "r1 = torch.rand(2, 2)\n",
        "print('A random tensor:')\n",
        "print(r1)\n",
        "r2 = torch.rand(2, 2)\n",
        "print('\\nA different random tensor')\n",
        "print(r2)\n",
        "torch.manual_seed(42)\n",
        "r3 = torch.rand(2, 2)\n",
        "print('\\nShould match r1:')\n",
        "print(r3)"
      ],
      "metadata": {
        "colab": {
          "base_uri": "https://localhost:8080/"
        },
        "id": "QEiTRXsrgD9b",
        "outputId": "6e953c61-fbc6-4edf-ca37-f6344f5d4939"
      },
      "execution_count": null,
      "outputs": [
        {
          "output_type": "stream",
          "name": "stdout",
          "text": [
            "A random tensor:\n",
            "tensor([[0.8823, 0.9150],\n",
            "        [0.3829, 0.9593]])\n",
            "\n",
            "A different random tensor\n",
            "tensor([[0.3904, 0.6009],\n",
            "        [0.2566, 0.7936]])\n",
            "\n",
            "Should match r1:\n",
            "tensor([[0.8823, 0.9150],\n",
            "        [0.3829, 0.9593]])\n"
          ]
        }
      ]
    },
    {
      "cell_type": "markdown",
      "source": [
        "Operations with scalars are distributed over the tensors:"
      ],
      "metadata": {
        "id": "0SOmXYeehDYv"
      }
    },
    {
      "cell_type": "code",
      "source": [
        "ones = torch.ones(2, 3)\n",
        "print(ones)\n",
        "\n",
        "twos = torch.ones(2, 3) * 2\n",
        "print(twos)\n",
        "\n",
        "threes = ones + twos\n",
        "print(threes)\n",
        "print(threes.shape)\n",
        "\n",
        "'''\n",
        "r1 = torch.rand(3, 2)\n",
        "r2 = torch.rand(2, 3)\n",
        "\n",
        "r3 = r1 + r2\n",
        "\n",
        "print(r3) -> esse código daria erro, pois não se pode somar formatos diferentes\n",
        "\n",
        "'''"
      ],
      "metadata": {
        "colab": {
          "base_uri": "https://localhost:8080/",
          "height": 174
        },
        "id": "qr0GAJ5EhLW2",
        "outputId": "e76f82c8-e112-496a-c368-bc2072f37a7a"
      },
      "execution_count": null,
      "outputs": [
        {
          "output_type": "stream",
          "name": "stdout",
          "text": [
            "tensor([[1., 1., 1.],\n",
            "        [1., 1., 1.]])\n",
            "tensor([[2., 2., 2.],\n",
            "        [2., 2., 2.]])\n",
            "tensor([[3., 3., 3.],\n",
            "        [3., 3., 3.]])\n",
            "torch.Size([2, 3])\n"
          ]
        },
        {
          "output_type": "execute_result",
          "data": {
            "text/plain": [
              "'\\nr1 = torch.rand(3, 2)\\nr2 = torch.rand(2, 3)\\n\\nr3 = r1 + r2\\n\\nprint(r3) -> esse código daria erro, pois não se pode somar formatos diferentes\\n\\n'"
            ],
            "application/vnd.google.colaboratory.intrinsic+json": {
              "type": "string"
            }
          },
          "metadata": {},
          "execution_count": 27
        }
      ]
    },
    {
      "cell_type": "code",
      "source": [
        "# Sample of mathematical operations available:\n",
        "\n",
        "r = (torch.rand(2, 2) - 0.5) *2 # Values between -1 and 1\n",
        "print('A random matrix, r:')\n",
        "print(r)\n",
        "\n",
        "# Common mathematical operations are supported:\n",
        "print('\\nAbsolute value of r:')\n",
        "print(torch.abs(r))\n",
        "\n",
        "# ...as are trigonometric function\n",
        "print('\\n Inverse sine of r:')\n",
        "print(torch.asin(r))\n",
        "\n",
        "# ...and linear algebra operations like determinant and singular value decomposition\n",
        "print('\\nDeterminant of r:')\n",
        "print(torch.det(r))\n",
        "print('\\nSingular value decomposition of r:')\n",
        "print(torch.svd(r))\n",
        "\n",
        "# ... and statistical and aggregate operations:\n",
        "print('\\nAverage and standard deviation of r:')\n",
        "print(torch.std_mean(r))\n",
        "print('\\nMaximum value of r')\n",
        "print(torch.max(r))"
      ],
      "metadata": {
        "colab": {
          "base_uri": "https://localhost:8080/"
        },
        "id": "5gUhCMhhidQt",
        "outputId": "d2df3952-1e24-469e-bdc9-d1f2414ab418"
      },
      "execution_count": null,
      "outputs": [
        {
          "output_type": "stream",
          "name": "stdout",
          "text": [
            "A random matrix, r:\n",
            "tensor([[-0.2191,  0.2018],\n",
            "        [-0.4869,  0.5873]])\n",
            "\n",
            "Absolute value of r:\n",
            "tensor([[0.2191, 0.2018],\n",
            "        [0.4869, 0.5873]])\n",
            "\n",
            " Inverse sine of r:\n",
            "tensor([[-0.2209,  0.2032],\n",
            "        [-0.5085,  0.6277]])\n",
            "\n",
            "Determinant of r:\n",
            "tensor(-0.0304)\n",
            "\n",
            "Singular value decomposition of r:\n",
            "torch.return_types.svd(\n",
            "U=tensor([[-0.3616, -0.9323],\n",
            "        [-0.9323,  0.3616]]),\n",
            "S=tensor([0.8181, 0.0372]),\n",
            "V=tensor([[ 0.6517,  0.7585],\n",
            "        [-0.7585,  0.6517]]))\n",
            "\n",
            "Average and standard deviation of r:\n",
            "(tensor(0.4722), tensor(0.0208))\n",
            "\n",
            "Maximum value of r\n",
            "tensor(0.5873)\n"
          ]
        }
      ]
    },
    {
      "cell_type": "markdown",
      "source": [
        "# PyTorch Models"
      ],
      "metadata": {
        "id": "-QIAW6DXmv5E"
      }
    },
    {
      "cell_type": "code",
      "source": [
        "import torch\n",
        "import torch.nn as nn # for modules\n",
        "import torch.nn.functional as F # for the activation function"
      ],
      "metadata": {
        "id": "BHL2yD3Mm6eW"
      },
      "execution_count": null,
      "outputs": []
    },
    {
      "cell_type": "code",
      "source": [
        "# expressing a simple neural network in code\n",
        "\n",
        "class LeNet(nn.Module):\n",
        "  def __init__(self):\n",
        "    super(LeNet, self).__init__()\n",
        "    # 1 input image channel (black and white), 6 output channels, 5x5 square convolutional\n",
        "    # kernel\n",
        "    self.conv1 = nn.Conv2d(1, 6, 5)\n",
        "    self.conv2 = nn.Conv2d(6, 16, 5)\n",
        "    # an affine operation: y = Wx + b\n",
        "    self.fc1 = nn.Linear(16 * 5 * 5, 120) # 5x5 from image dimension\n",
        "    self.fc2 = nn.Linear(120, 84)\n",
        "    self.fc3 = nn.Linear(84, 10)\n",
        "\n",
        "  def forward(self, x):\n",
        "    # Max pooling over a (2, 2) window\n",
        "    x =  F.max_pool2d(F.relu(self.conv1(x)), (2, 2))\n",
        "    # if the size is a square you can only specify a single number\n",
        "    x = F.max_pool2d(F.relu(self.conv2(x)), 2)\n",
        "    x = x.view(-1, self.num_flat_features(x))\n",
        "    x = F.relu(self.fc1(x))\n",
        "    x = F.relu(self.fc2(x))\n",
        "    x = self.fc3(x)\n",
        "    return x\n",
        "\n",
        "  def num_flat_features(self, x):\n",
        "    size = x.size()[1:] # all dimensions except the batch dimension\n",
        "    num_features = 1\n",
        "    for s in size:\n",
        "      num_features *= s\n",
        "    return num_features"
      ],
      "metadata": {
        "id": "AY0OnRHJogB0"
      },
      "execution_count": null,
      "outputs": []
    },
    {
      "cell_type": "markdown",
      "source": [
        "The structure of a typical Pytorch  model:\n",
        "\n",
        "- It inherits from ``torch.nn.Module``.\n",
        "- A Model will have an __init__() function, where it intantiantes its layers, and load any data artifacts it might need\n",
        "- A model will have a forwad() function. This is where the actual computation happens: An input is passed through the network layers and various functions to generate a output\n",
        "- Other than that, you can build out your model class like any other Python class, adding whatever properties and methods you need to support your model's computation."
      ],
      "metadata": {
        "id": "aBV1c61usmqQ"
      }
    },
    {
      "cell_type": "code",
      "source": [
        "# Let's instantiate this object and run a sample input though it:\n",
        "\n",
        "net = LeNet()\n",
        "print(net) # what does the object tell us about itself?\n",
        "\n",
        "input = torch.rand(1, 1, 32, 32) # stand-in for a 32x32 black and white image\n",
        "print('\\nImage batch shape:')\n",
        "print(input.shape)\n",
        "\n",
        "output = net(input) # we don't call forward() directly\n",
        "print('\\nRaw output:')\n",
        "print(output)\n",
        "print(output.shape)"
      ],
      "metadata": {
        "colab": {
          "base_uri": "https://localhost:8080/"
        },
        "id": "-X3VKbP8tsh0",
        "outputId": "63a47504-d4c1-49dd-d09d-2c16b1405019"
      },
      "execution_count": null,
      "outputs": [
        {
          "output_type": "stream",
          "name": "stdout",
          "text": [
            "LeNet(\n",
            "  (conv1): Conv2d(1, 6, kernel_size=(5, 5), stride=(1, 1))\n",
            "  (conv2): Conv2d(6, 16, kernel_size=(5, 5), stride=(1, 1))\n",
            "  (fc1): Linear(in_features=400, out_features=120, bias=True)\n",
            "  (fc2): Linear(in_features=120, out_features=84, bias=True)\n",
            "  (fc3): Linear(in_features=84, out_features=10, bias=True)\n",
            ")\n",
            "\n",
            "Image batch shape:\n",
            "torch.Size([1, 1, 32, 32])\n",
            "\n",
            "Raw output:\n",
            "tensor([[-0.0074,  0.0062,  0.1226,  0.0073, -0.0885,  0.0682,  0.0014, -0.0808,\n",
            "         -0.0962,  0.0505]], grad_fn=<AddmmBackward0>)\n",
            "torch.Size([1, 10])\n"
          ]
        }
      ]
    },
    {
      "cell_type": "markdown",
      "source": [
        "We instantiete the LeNet class, and we print the net object. A subclass of torch.nn.Module will report the layers it has created and their shapes and parameters.\n",
        "\n",
        "We create a dummy input representing a 32x32 image with 1 color channel. Normally, you wold load an image tile and convert it to a tensor of this shape.\n",
        "\n",
        "The extra dimension to our tensor is the batch dimension. PyTorch models assume they are working on batches of data. For example, a batch with 16 images wold have the shape (16, 1, 32, 32)\n",
        "\n",
        "We ask the model for an inference by calling it like a function: net(input). The output of this call represents the model's confidence that the input represents a particular digit. (Since this instance of the model hasn't learned anything yet, we shouldn't expect to see any signal in the output.) Looking at the shape of output, we can see that it also has a batch dimension, the size of which should always match the input batch dimension. If we had passed in an input batch of 16 instances, output would have a shape of (16, 10)."
      ],
      "metadata": {
        "id": "fG9TV714PdGt"
      }
    },
    {
      "cell_type": "markdown",
      "source": [
        "# Dataset and DataLoaders"
      ],
      "metadata": {
        "id": "ZdgefspGRXcF"
      }
    },
    {
      "cell_type": "code",
      "source": [
        "%matplotlib inline\n",
        "\n",
        "import torch\n",
        "import torchvision\n",
        "import torchvision.transforms as transforms\n",
        "\n",
        "transform = transforms.Compose(\n",
        "    [transforms.ToTensor(),\n",
        "     transforms.Normalize((0.4914, 0.4822, 0.4464), (0.2470, 0.2435, 0.2616))]\n",
        ")\n"
      ],
      "metadata": {
        "id": "9DQZXeX_RkQ2"
      },
      "execution_count": null,
      "outputs": []
    },
    {
      "cell_type": "markdown",
      "source": [
        "- transforms.ToTensor() converts images loaded by pillow into PyTorch tensors\n",
        "- transform.Normalize() adjusts the values of the tensor so that their average is zero and their standard deviation is 1.0. Most activation function have their strongest gradients around x=0, so centering our data there can speed learning."
      ],
      "metadata": {
        "id": "tODbTBqxSzn4"
      }
    },
    {
      "cell_type": "markdown",
      "source": [
        "Next, we’ll create an instance of the CIFAR10 dataset. This is a set of 32x32 color image tiles representing 10 classes of objects: 6 of animals (bird, cat, deer, dog, frog, horse) and 4 of vehicles (airplane, automobile, ship, truck):"
      ],
      "metadata": {
        "id": "cI_rBI4tTxO-"
      }
    },
    {
      "cell_type": "code",
      "source": [
        "trainset = torchvision.datasets.CIFAR10(root='./data',\n",
        "                                        train=True,\n",
        "                                        download=True,\n",
        "                                        transform=transform)"
      ],
      "metadata": {
        "colab": {
          "base_uri": "https://localhost:8080/"
        },
        "id": "c8_fsAHMTyuD",
        "outputId": "96e24366-66cc-4432-d733-de990f2382c0"
      },
      "execution_count": null,
      "outputs": [
        {
          "output_type": "stream",
          "name": "stdout",
          "text": [
            "Files already downloaded and verified\n"
          ]
        }
      ]
    },
    {
      "cell_type": "code",
      "source": [
        "# passing the dataset to the dataLoader\n",
        "\n",
        "trainloader = torch.utils.data.DataLoader(trainset,\n",
        "                                          batch_size=4,\n",
        "                                          shuffle=True,\n",
        "                                          num_workers=2)"
      ],
      "metadata": {
        "id": "Wf_fzZcMUspS"
      },
      "execution_count": null,
      "outputs": []
    },
    {
      "cell_type": "markdown",
      "source": [
        "The dataloder organizes the input tensors served by the dataset into batches with the parameters you specify.\n",
        "\n",
        "In the example above, we've asked a DataLoader to give us batches of 4 images from trainset, randomizing their order (shuffle=True), and we told it to spin up two workers to load data from disk."
      ],
      "metadata": {
        "id": "t-Yl6x0vVI2d"
      }
    },
    {
      "cell_type": "code",
      "source": [
        "# It's good practice to visualize the batches your DataLoader serves:\n",
        "\n",
        "import matplotlib.pyplot as plt\n",
        "import numpy as np\n",
        "\n",
        "classes = ('plane', 'car', 'bird', 'cat',\n",
        "           'deer', 'dog', 'frog', 'horse', 'ship', 'truck')\n",
        "\n",
        "def imshow(img):\n",
        "  img = img / 2 + 0.5\n",
        "  npimg = img.numpy()\n",
        "  plt.imshow(np.transpose(npimg, (1, 2, 0)))\n",
        "\n",
        "# get some random training images\n",
        "dataiter = iter(trainloader)\n",
        "images, labels = next(dataiter)\n",
        "\n",
        "#  show images\n",
        "imshow(torchvision.utils.make_grid(images))\n",
        "# print labels\n",
        "print(''.join('%5s' % classes[labels[j]] for j in range(4)))"
      ],
      "metadata": {
        "colab": {
          "base_uri": "https://localhost:8080/",
          "height": 228
        },
        "id": "EXwJh0PmVi9W",
        "outputId": "4c58fdad-d953-447f-903b-0047d9722fdd"
      },
      "execution_count": null,
      "outputs": [
        {
          "output_type": "stream",
          "name": "stderr",
          "text": [
            "WARNING:matplotlib.image:Clipping input data to the valid range for imshow with RGB data ([0..1] for floats or [0..255] for integers).\n"
          ]
        },
        {
          "output_type": "stream",
          "name": "stdout",
          "text": [
            "horse  cat bird  cat\n"
          ]
        },
        {
          "output_type": "display_data",
          "data": {
            "text/plain": [
              "<Figure size 640x480 with 1 Axes>"
            ],
            "image/png": "[encoded data removed]"
          },
          "metadata": {}
        }
      ]
    },
    {
      "cell_type": "markdown",
      "source": [
        "# Training my PyTorch Model\n",
        "\n",
        "Putting all the pieces together and training a model"
      ],
      "metadata": {
        "id": "eg5c9fuihEv4"
      }
    },
    {
      "cell_type": "code",
      "source": [
        "%matplotlib inline\n",
        "\n",
        "import torch\n",
        "import torch.nn as nn\n",
        "import torch.nn.functional as F\n",
        "import torch.optim as optim\n",
        "\n",
        "import torchvision\n",
        "import torchvision.transforms as transforms\n",
        "\n",
        "import matplotlib\n",
        "import matplotlib.pyplot as plt\n",
        "import numpy as np"
      ],
      "metadata": {
        "id": "apH1j1arhSeR"
      },
      "execution_count": null,
      "outputs": []
    },
    {
      "cell_type": "markdown",
      "source": [
        "The training and test datasets I downloaded in the train cell"
      ],
      "metadata": {
        "id": "e8LpL1kOiGVP"
      }
    },
    {
      "cell_type": "code",
      "source": [
        "# This is the model we'll train\n",
        "\n",
        "class Net(nn.Module):\n",
        "  def __init__(self):\n",
        "    super(Net, self).__init__()\n",
        "    self.conv1 = nn.Conv2d(3, 6, 5)\n",
        "    self.pool = nn.MaxPool2d(2, 2)\n",
        "    self.conv2 = nn.Conv2d(6, 16, 5)\n",
        "    self.fc1 = nn.Linear(16 * 5 * 5, 120)\n",
        "    self.fc2 = nn.Linear(120, 84)\n",
        "    self.fc3 = nn.Linear(84, 10)\n",
        "\n",
        "  def forward(self, x):\n",
        "    x = self.pool(F.relu(self.conv1(x)))\n",
        "    x = self.pool(F.relu(self.conv2(x)))\n",
        "    x = x.view(-1, 16 * 5 * 5)\n",
        "    x = F.relu(self.fc1(x))\n",
        "    x = F.relu(self.fc2(x))\n",
        "    x = self.fc3(x)\n",
        "    return x\n",
        "\n",
        "net = Net()"
      ],
      "metadata": {
        "id": "cCZK-dRBirco"
      },
      "execution_count": null,
      "outputs": []
    },
    {
      "cell_type": "markdown",
      "source": [
        "adding a loss function and a optimizer"
      ],
      "metadata": {
        "id": "213Tb45rkhH6"
      }
    },
    {
      "cell_type": "code",
      "source": [
        "criterion = nn.CrossEntropyLoss() # Loss function\n",
        "optimizer = optim.SGD(net.parameters(), lr=0.001, momentum=0.9)\n"
      ],
      "metadata": {
        "id": "E_zxFvQSkmqF"
      },
      "execution_count": null,
      "outputs": []
    },
    {
      "cell_type": "markdown",
      "source": [
        "the ``net.parameters()`` is a collection of all the learning weights in the model (which is what the optimizer adjust)"
      ],
      "metadata": {
        "id": "ud0jHU0NlGPo"
      }
    },
    {
      "cell_type": "markdown",
      "source": [
        "it's time to assemble the training loop"
      ],
      "metadata": {
        "id": "WNdWomo3laT4"
      }
    },
    {
      "cell_type": "code",
      "source": [
        "for epoch in range(2):  # loop over the dataset multiple times\n",
        "\n",
        "  running_loss = 0.0\n",
        "  for i, data in enumerate(trainloader, 0):\n",
        "    # get the inputs\n",
        "    inputs, labels = data\n",
        "\n",
        "    # zero the parameter gradients\n",
        "    optimizer.zero_grad()\n",
        "\n",
        "    # forward + backward + optimize\n",
        "    outputs = net(inputs)\n",
        "    loss = criterion(outputs, labels)\n",
        "    loss.backward()\n",
        "    optimizer.step()\n",
        "\n",
        "    # print statistics\n",
        "    running_loss += loss.item()\n",
        "    if i % 2000  == 1999:   # print every 2000 mini-batches\n",
        "      print('[%d, %5d] loss:%.3f' %\n",
        "            (epoch + 1, i + 1, running_loss / 2000))\n",
        "      running_loss = 0.0\n",
        "\n",
        "print('Finished Training')"
      ],
      "metadata": {
        "colab": {
          "base_uri": "https://localhost:8080/"
        },
        "id": "Y08asLtilibN",
        "outputId": "fd1ebd15-d388-4ac0-8541-82e2c03051fe"
      },
      "execution_count": null,
      "outputs": [
        {
          "output_type": "stream",
          "name": "stdout",
          "text": [
            "[1,  2000] loss:2.065\n",
            "[1,  4000] loss:1.748\n",
            "[1,  6000] loss:1.606\n",
            "[1,  8000] loss:1.529\n",
            "[1, 10000] loss:1.472\n",
            "[1, 12000] loss:1.430\n",
            "[2,  2000] loss:1.353\n",
            "[2,  4000] loss:1.341\n",
            "[2,  6000] loss:1.294\n",
            "[2,  8000] loss:1.283\n",
            "[2, 10000] loss:1.285\n",
            "[2, 12000] loss:1.251\n",
            "Finished Training\n"
          ]
        }
      ]
    },
    {
      "cell_type": "markdown",
      "source": [
        "Here, we are doing only 2 training epochs (line 1) - that is, two passes over the training dataset. Each pass has an inner loop that iterates over the training data (line 4), serving batches of transformed input images and their correct labels."
      ],
      "metadata": {
        "id": "CUoxsSNTpO9Z"
      }
    },
    {
      "cell_type": "markdown",
      "source": [
        "As a final step, we shoud check if the model is doing general learning and not simply \"memorizing\" the dataset (this hapens when there is not enough examples)\n",
        "\n",
        "to do this, we ask the model to make predictions on data it hasn't trained on"
      ],
      "metadata": {
        "id": "NgmANexMpqVC"
      }
    },
    {
      "cell_type": "code",
      "source": [
        "correct = 0\n",
        "total = 0\n",
        "with torch.no_grad():\n",
        "    for data in trainloader:\n",
        "        images, labels = data\n",
        "        outputs = net(images)\n",
        "        _, predicted = torch.max(outputs.data, 1)\n",
        "        total += labels.size(0)\n",
        "        correct += (predicted == labels).sum().item()\n",
        "\n",
        "print('Accuracy of the network on the 10000 test images: %d %%' % (\n",
        "    100 * correct / total))\n",
        "\n"
      ],
      "metadata": {
        "colab": {
          "base_uri": "https://localhost:8080/"
        },
        "id": "wh9dN99lqWnX",
        "outputId": "19081f92-7a1e-42cb-b557-5b27e7346906"
      },
      "execution_count": null,
      "outputs": [
        {
          "output_type": "stream",
          "name": "stdout",
          "text": [
            "Accuracy of the network on the 10000 test images: 59 %\n"
          ]
        }
      ]
    },
    {
      "cell_type": "markdown",
      "source": [
        "59% is better than the 10% expected\n",
        "so the model is learning!!!"
      ],
      "metadata": {
        "id": "1y_ULOsBsicU"
      }
    }
  ]
}